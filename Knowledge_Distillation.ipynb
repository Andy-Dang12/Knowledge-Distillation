{
  "cells": [
    {
      "cell_type": "code",
      "execution_count": 1,
      "metadata": {
        "colab": {
          "base_uri": "https://localhost:8080/"
        },
        "id": "cz3i7oBg8pKw",
        "outputId": "f03b31c0-5fd5-4d6a-e8bd-95bb235fb9ef"
      },
      "outputs": [
        {
          "name": "stdout",
          "output_type": "stream",
          "text": [
            "Mounted at /content/gdrive\n"
          ]
        }
      ],
      "source": [
        "# from google.colab import drive\n",
        "# drive.mount('/content/gdrive')"
      ]
    },
    {
      "cell_type": "code",
      "execution_count": 1,
      "metadata": {
        "colab": {
          "base_uri": "https://localhost:8080/"
        },
        "id": "4VOVI054suq2",
        "outputId": "efb88694-28ba-4243-a296-94f10561c880"
      },
      "outputs": [
        {
          "name": "stdout",
          "output_type": "stream",
          "text": [
            "Mon May 23 17:34:52 2022       \n",
            "+-----------------------------------------------------------------------------+\n",
            "| NVIDIA-SMI 510.73.05    Driver Version: 510.73.05    CUDA Version: 11.6     |\n",
            "|-------------------------------+----------------------+----------------------+\n",
            "| GPU  Name        Persistence-M| Bus-Id        Disp.A | Volatile Uncorr. ECC |\n",
            "| Fan  Temp  Perf  Pwr:Usage/Cap|         Memory-Usage | GPU-Util  Compute M. |\n",
            "|                               |                      |               MIG M. |\n",
            "|===============================+======================+======================|\n",
            "|   0  NVIDIA GeForce ...  Off  | 00000000:01:00.0 Off |                  N/A |\n",
            "| N/A   45C    P3    11W /  N/A |    344MiB /  4096MiB |     18%      Default |\n",
            "|                               |                      |                  N/A |\n",
            "+-------------------------------+----------------------+----------------------+\n",
            "                                                                               \n",
            "+-----------------------------------------------------------------------------+\n",
            "| Processes:                                                                  |\n",
            "|  GPU   GI   CI        PID   Type   Process name                  GPU Memory |\n",
            "|        ID   ID                                                   Usage      |\n",
            "|=============================================================================|\n",
            "|    0   N/A  N/A      1948      G   /usr/lib/xorg/Xorg                164MiB |\n",
            "|    0   N/A  N/A      2281      G   /usr/bin/gnome-shell               28MiB |\n",
            "|    0   N/A  N/A      2896      G   ...tures=ParallelDownloading       42MiB |\n",
            "|    0   N/A  N/A      5791      G   ...RendererForSitePerProcess      106MiB |\n",
            "+-----------------------------------------------------------------------------+\n"
          ]
        }
      ],
      "source": [
        "!nvidia-smi"
      ]
    },
    {
      "cell_type": "code",
      "execution_count": 6,
      "metadata": {
        "colab": {
          "base_uri": "https://localhost:8080/"
        },
        "id": "CrCji_SWtMLL",
        "outputId": "d97e02eb-798b-440a-ba36-6f800a431ca1"
      },
      "outputs": [
        {
          "name": "stdout",
          "output_type": "stream",
          "text": [
            "/home/agent/Documents/Project/Knowledge-Distillation\n"
          ]
        }
      ],
      "source": [
        "%cd /home/agent/Documents/Project/Knowledge-Distillation\n",
        "import torch, timm\n",
        "import torch.nn as nn\n",
        "import torchvision.models as models\n",
        "from prepare_dataloader import loaders, dataset_sizes, num_classes# , class_to_idx, idx_to_class\n",
        "from distiller.teacher_train import training\n",
        "\n",
        "\n",
        "#TODO create teacher  model\n",
        "\n",
        "teacher = models.resnet34(pretrained=True, progress=True)\n",
        "teacher.fc = nn.Linear(in_features=teacher.fc.in_features,\n",
        "                       out_features=num_classes, bias=True)\n",
        "# teacher.load_state_dict(\n",
        "#     torch.load(\"weights/teacher.pth\"))\n",
        "\n",
        "#NOTE train teacher model\n",
        "epoch_warmup = 1\n",
        "epoch = 1\n",
        "path_save_weight = \"weights/teacher.pth\""
      ]
    },
    {
      "cell_type": "code",
      "execution_count": 7,
      "metadata": {},
      "outputs": [
        {
          "name": "stdout",
          "output_type": "stream",
          "text": [
            "Training ResNet using NVIDIA GeForce GTX 1650\n",
            "Unexpected exception formatting exception. Falling back to standard exception\n"
          ]
        },
        {
          "name": "stderr",
          "output_type": "stream",
          "text": [
            "Traceback (most recent call last):\n",
            "  File \"/home/agent/anaconda3/envs/py38/lib/python3.8/site-packages/IPython/core/interactiveshell.py\", line 3397, in run_code\n",
            "    exec(code_obj, self.user_global_ns, self.user_ns)\n",
            "  File \"/tmp/ipykernel_6190/81747146.py\", line 1, in <cell line: 1>\n",
            "    teacher = training(loaders, dataset_sizes, epoch_warmup, epoch, teacher, path_save_weight)\n",
            "  File \"/home/agent/Documents/Project/Knowledge-Distillation/distiller/teacher_train.py\", line 86, in training\n",
            "    teacher.to(device)\n",
            "  File \"/home/agent/anaconda3/envs/py38/lib/python3.8/site-packages/torch/nn/modules/module.py\", line 673, in to\n",
            "    return self._apply(convert)\n",
            "  File \"/home/agent/anaconda3/envs/py38/lib/python3.8/site-packages/torch/nn/modules/module.py\", line 387, in _apply\n",
            "    module._apply(fn)\n",
            "  File \"/home/agent/anaconda3/envs/py38/lib/python3.8/site-packages/torch/nn/modules/module.py\", line 387, in _apply\n",
            "    module._apply(fn)\n",
            "  File \"/home/agent/anaconda3/envs/py38/lib/python3.8/site-packages/torch/nn/modules/module.py\", line 387, in _apply\n",
            "    module._apply(fn)\n",
            "  File \"/home/agent/anaconda3/envs/py38/lib/python3.8/site-packages/torch/nn/modules/module.py\", line 409, in _apply\n",
            "    param_applied = fn(param)\n",
            "  File \"/home/agent/anaconda3/envs/py38/lib/python3.8/site-packages/torch/nn/modules/module.py\", line 671, in convert\n",
            "    return t.to(device, dtype if t.is_floating_point() or t.is_complex() else None, non_blocking)\n",
            "RuntimeError: CUDA out of memory. Tried to allocate 20.00 MiB (GPU 0; 3.82 GiB total capacity; 2.24 GiB already allocated; 13.69 MiB free; 2.25 GiB reserved in total by PyTorch)\n",
            "\n",
            "During handling of the above exception, another exception occurred:\n",
            "\n",
            "Traceback (most recent call last):\n",
            "  File \"/home/agent/anaconda3/envs/py38/lib/python3.8/site-packages/IPython/core/interactiveshell.py\", line 1992, in showtraceback\n",
            "    stb = self.InteractiveTB.structured_traceback(\n",
            "  File \"/home/agent/anaconda3/envs/py38/lib/python3.8/site-packages/IPython/core/ultratb.py\", line 1118, in structured_traceback\n",
            "    return FormattedTB.structured_traceback(\n",
            "  File \"/home/agent/anaconda3/envs/py38/lib/python3.8/site-packages/IPython/core/ultratb.py\", line 1012, in structured_traceback\n",
            "    return VerboseTB.structured_traceback(\n",
            "  File \"/home/agent/anaconda3/envs/py38/lib/python3.8/site-packages/IPython/core/ultratb.py\", line 865, in structured_traceback\n",
            "    formatted_exception = self.format_exception_as_a_whole(etype, evalue, etb, number_of_lines_of_context,\n",
            "  File \"/home/agent/anaconda3/envs/py38/lib/python3.8/site-packages/IPython/core/ultratb.py\", line 818, in format_exception_as_a_whole\n",
            "    frames.append(self.format_record(r))\n",
            "  File \"/home/agent/anaconda3/envs/py38/lib/python3.8/site-packages/IPython/core/ultratb.py\", line 736, in format_record\n",
            "    result += ''.join(_format_traceback_lines(frame_info.lines, Colors, self.has_colors, lvals))\n",
            "  File \"/home/agent/anaconda3/envs/py38/lib/python3.8/site-packages/stack_data/utils.py\", line 145, in cached_property_wrapper\n",
            "    value = obj.__dict__[self.func.__name__] = self.func(obj)\n",
            "  File \"/home/agent/anaconda3/envs/py38/lib/python3.8/site-packages/stack_data/core.py\", line 698, in lines\n",
            "    pieces = self.included_pieces\n",
            "  File \"/home/agent/anaconda3/envs/py38/lib/python3.8/site-packages/stack_data/utils.py\", line 145, in cached_property_wrapper\n",
            "    value = obj.__dict__[self.func.__name__] = self.func(obj)\n",
            "  File \"/home/agent/anaconda3/envs/py38/lib/python3.8/site-packages/stack_data/core.py\", line 645, in included_pieces\n",
            "    scope_pieces = self.scope_pieces\n",
            "  File \"/home/agent/anaconda3/envs/py38/lib/python3.8/site-packages/stack_data/utils.py\", line 145, in cached_property_wrapper\n",
            "    value = obj.__dict__[self.func.__name__] = self.func(obj)\n",
            "  File \"/home/agent/anaconda3/envs/py38/lib/python3.8/site-packages/stack_data/core.py\", line 585, in scope_pieces\n",
            "    for piece in self.source.pieces\n",
            "  File \"/home/agent/anaconda3/envs/py38/lib/python3.8/site-packages/stack_data/utils.py\", line 145, in cached_property_wrapper\n",
            "    value = obj.__dict__[self.func.__name__] = self.func(obj)\n",
            "  File \"/home/agent/anaconda3/envs/py38/lib/python3.8/site-packages/stack_data/core.py\", line 90, in pieces\n",
            "    return list(self._clean_pieces())\n",
            "  File \"/home/agent/anaconda3/envs/py38/lib/python3.8/site-packages/stack_data/core.py\", line 114, in _clean_pieces\n",
            "    raise AssertionError(\"Pieces mismatches: %s\" % mismatches)\n",
            "AssertionError: Pieces mismatches: [{28, 29}]\n"
          ]
        }
      ],
      "source": [
        "teacher = training(loaders, dataset_sizes, epoch_warmup, epoch, teacher, path_save_weight)"
      ]
    },
    {
      "cell_type": "code",
      "execution_count": null,
      "metadata": {
        "colab": {
          "base_uri": "https://localhost:8080/"
        },
        "id": "g3FbQd9Vv829",
        "outputId": "e1e25e41-9bb0-424c-e63f-666d76ea232f"
      },
      "outputs": [
        {
          "name": "stdout",
          "output_type": "stream",
          "text": [
            "/content/gdrive/MyDrive/Knowledge-Distillation\n",
            "Files already downloaded and verified\n",
            "Training ResNet using cuda:0\n",
            "\u001b[31m\n",
            "Epoch :  1/ 8 \u001b[39m    ==============================================\n"
          ]
        },
        {
          "name": "stderr",
          "output_type": "stream",
          "text": [
            "\rTrain :   0%|\u001b[30m                          \u001b[0m| 0/2188 [00:00<?, ?it/s]\u001b[0m/usr/local/lib/python3.7/dist-packages/torch/nn/functional.py:2748: UserWarning: reduction: 'mean' divides the total loss by both the batch size and the support size.'batchmean' divides only by the batch size, and aligns with the KL div math definition.'mean' will be changed to behave the same as 'batchmean' in the next major release.\n",
            "  \"reduction: 'mean' divides the total loss by both the batch size and the support size.\"\n",
            "Train : 100%|\u001b[30m███████████████\u001b[0m| 2188/2188 [11:49<00:00,  3.08it/s]\u001b[0m\n"
          ]
        },
        {
          "name": "stdout",
          "output_type": "stream",
          "text": [
            "Train  - loss = 2.231892, accuracy = 39.280\n"
          ]
        },
        {
          "name": "stderr",
          "output_type": "stream",
          "text": [
            "Val   : 100%|\u001b[30m█████████████████\u001b[0m| 313/313 [00:30<00:00, 10.41it/s]\u001b[0m\n"
          ]
        },
        {
          "name": "stdout",
          "output_type": "stream",
          "text": [
            "Val    - loss = 1.628673, accuracy = 51.400\n",
            "Time: 12.0m 19.804s\n",
            "\u001b[31m\n",
            "Epoch :  2/ 8 \u001b[39m    ==============================================\n"
          ]
        },
        {
          "name": "stderr",
          "output_type": "stream",
          "text": [
            "Train : 100%|\u001b[30m███████████████\u001b[0m| 2188/2188 [11:53<00:00,  3.06it/s]\u001b[0m\n"
          ]
        },
        {
          "name": "stdout",
          "output_type": "stream",
          "text": [
            "Train  - loss = 1.627605, accuracy = 51.846\n"
          ]
        },
        {
          "name": "stderr",
          "output_type": "stream",
          "text": [
            "Val   : 100%|\u001b[30m█████████████████\u001b[0m| 313/313 [00:29<00:00, 10.61it/s]\u001b[0m\n"
          ]
        },
        {
          "name": "stdout",
          "output_type": "stream",
          "text": [
            "Val    - loss = 1.538975, accuracy = 53.680\n",
            "Time: 24.0m 43.448s\n",
            "\u001b[31m\n",
            "Epoch :  3/ 8 \u001b[39m    ==============================================\n"
          ]
        },
        {
          "name": "stderr",
          "output_type": "stream",
          "text": [
            "Train : 100%|\u001b[30m███████████████\u001b[0m| 2188/2188 [11:53<00:00,  3.06it/s]\u001b[0m\n"
          ]
        },
        {
          "name": "stdout",
          "output_type": "stream",
          "text": [
            "Train  - loss = 1.526293, accuracy = 54.649\n"
          ]
        },
        {
          "name": "stderr",
          "output_type": "stream",
          "text": [
            "Val   : 100%|\u001b[30m█████████████████\u001b[0m| 313/313 [00:29<00:00, 10.62it/s]\u001b[0m\n"
          ]
        },
        {
          "name": "stdout",
          "output_type": "stream",
          "text": [
            "Val    - loss = 1.501114, accuracy = 55.740\n",
            "Time: 37.0m 6.971s\n",
            "\u001b[31m\n",
            "Epoch :  4/ 8 \u001b[39m    ==============================================\n"
          ]
        },
        {
          "name": "stderr",
          "output_type": "stream",
          "text": [
            "Train : 100%|\u001b[30m███████████████\u001b[0m| 2188/2188 [11:53<00:00,  3.06it/s]\u001b[0m\n"
          ]
        },
        {
          "name": "stdout",
          "output_type": "stream",
          "text": [
            "Train  - loss = 1.470853, accuracy = 55.934\n"
          ]
        },
        {
          "name": "stderr",
          "output_type": "stream",
          "text": [
            "Val   : 100%|\u001b[30m█████████████████\u001b[0m| 313/313 [00:29<00:00, 10.63it/s]\u001b[0m\n"
          ]
        },
        {
          "name": "stdout",
          "output_type": "stream",
          "text": [
            "Val    - loss = 1.521482, accuracy = 55.840\n",
            "Time: 49.0m 30.557s\n",
            "\u001b[31m\n",
            "Epoch :  5/ 8 \u001b[39m    ==============================================\n"
          ]
        },
        {
          "name": "stderr",
          "output_type": "stream",
          "text": [
            "Train : 100%|\u001b[30m███████████████\u001b[0m| 2188/2188 [11:54<00:00,  3.06it/s]\u001b[0m\n"
          ]
        },
        {
          "name": "stdout",
          "output_type": "stream",
          "text": [
            "Train  - loss = 1.425564, accuracy = 56.957\n"
          ]
        },
        {
          "name": "stderr",
          "output_type": "stream",
          "text": [
            "Val   : 100%|\u001b[30m█████████████████\u001b[0m| 313/313 [00:29<00:00, 10.61it/s]\u001b[0m\n"
          ]
        },
        {
          "name": "stdout",
          "output_type": "stream",
          "text": [
            "Val    - loss = 1.539369, accuracy = 55.020\n",
            "Time: 61.0m 55.041s\n",
            "\u001b[31m\n",
            "Epoch :  6/ 8 \u001b[39m    ==============================================\n"
          ]
        },
        {
          "name": "stderr",
          "output_type": "stream",
          "text": [
            "Train : 100%|\u001b[30m███████████████\u001b[0m| 2188/2188 [11:54<00:00,  3.06it/s]\u001b[0m\n"
          ]
        },
        {
          "name": "stdout",
          "output_type": "stream",
          "text": [
            "Train  - loss = 1.403202, accuracy = 57.663\n"
          ]
        },
        {
          "name": "stderr",
          "output_type": "stream",
          "text": [
            "Val   : 100%|\u001b[30m█████████████████\u001b[0m| 313/313 [00:29<00:00, 10.46it/s]\u001b[0m\n"
          ]
        },
        {
          "name": "stdout",
          "output_type": "stream",
          "text": [
            "Val    - loss = 1.563269, accuracy = 55.100\n",
            "Time: 74.0m 19.806s\n",
            "\u001b[31m\n",
            "Epoch :  7/ 8 \u001b[39m    ==============================================\n"
          ]
        },
        {
          "name": "stderr",
          "output_type": "stream",
          "text": [
            "Train : 100%|\u001b[30m███████████████\u001b[0m| 2188/2188 [11:53<00:00,  3.06it/s]\u001b[0m\n"
          ]
        },
        {
          "name": "stdout",
          "output_type": "stream",
          "text": [
            "Train  - loss = 1.385881, accuracy = 58.269\n"
          ]
        },
        {
          "name": "stderr",
          "output_type": "stream",
          "text": [
            "Val   : 100%|\u001b[30m█████████████████\u001b[0m| 313/313 [00:29<00:00, 10.59it/s]\u001b[0m\n"
          ]
        },
        {
          "name": "stdout",
          "output_type": "stream",
          "text": [
            "Val    - loss = 1.526115, accuracy = 55.560\n",
            "Time: 86.0m 43.375s\n",
            "\u001b[31m\n",
            "Epoch :  8/ 8 \u001b[39m    ==============================================\n"
          ]
        },
        {
          "name": "stderr",
          "output_type": "stream",
          "text": [
            "Train : 100%|\u001b[30m███████████████\u001b[0m| 2188/2188 [11:54<00:00,  3.06it/s]\u001b[0m\n"
          ]
        },
        {
          "name": "stdout",
          "output_type": "stream",
          "text": [
            "Train  - loss = 1.364842, accuracy = 58.714\n"
          ]
        },
        {
          "name": "stderr",
          "output_type": "stream",
          "text": [
            "Val   : 100%|\u001b[30m█████████████████\u001b[0m| 313/313 [00:29<00:00, 10.63it/s]\u001b[0m\n"
          ]
        },
        {
          "name": "stdout",
          "output_type": "stream",
          "text": [
            "Val    - loss = 1.548041, accuracy = 55.660\n",
            "Time: 99.0m 7.167s\n",
            "CLASSIFIER TRAINING TIME 99.0 : 7.182\n",
            "┌─ \u001b[31mUnfreeze all layers \u001b[39m────────────────────────────────────────┐\n",
            "│                                                              │\n",
            "│                            ResNet                            │\n",
            "│                                                              │\n",
            "└───────────────────────────────────────────────────────(v1.0)─┘\n",
            "\u001b[31m\n",
            "Epoch :  1/12 \u001b[39m    ==============================================\n"
          ]
        },
        {
          "name": "stderr",
          "output_type": "stream",
          "text": [
            "Train : 100%|\u001b[30m███████████████\u001b[0m| 2188/2188 [12:04<00:00,  3.02it/s]\u001b[0m\n"
          ]
        },
        {
          "name": "stdout",
          "output_type": "stream",
          "text": [
            "Train  - loss = 1.085648, accuracy = 65.951\n"
          ]
        },
        {
          "name": "stderr",
          "output_type": "stream",
          "text": [
            "Val   : 100%|\u001b[30m█████████████████\u001b[0m| 313/313 [00:29<00:00, 10.57it/s]\u001b[0m\n"
          ]
        },
        {
          "name": "stdout",
          "output_type": "stream",
          "text": [
            "Val    - loss = 0.819578, accuracy = 74.020\n",
            "Time: 12.0m 34.200s\n",
            "\u001b[31m\n",
            "Epoch :  2/12 \u001b[39m    ==============================================\n"
          ]
        },
        {
          "name": "stderr",
          "output_type": "stream",
          "text": [
            "Train : 100%|\u001b[30m███████████████\u001b[0m| 2188/2188 [12:04<00:00,  3.02it/s]\u001b[0m\n"
          ]
        },
        {
          "name": "stdout",
          "output_type": "stream",
          "text": [
            "Train  - loss = 0.614742, accuracy = 79.537\n"
          ]
        },
        {
          "name": "stderr",
          "output_type": "stream",
          "text": [
            "Val   : 100%|\u001b[30m█████████████████\u001b[0m| 313/313 [00:29<00:00, 10.56it/s]\u001b[0m\n"
          ]
        },
        {
          "name": "stdout",
          "output_type": "stream",
          "text": [
            "Val    - loss = 0.817911, accuracy = 73.980\n",
            "Time: 25.0m 8.178s\n",
            "\u001b[31m\n",
            "Epoch :  3/12 \u001b[39m    ==============================================\n"
          ]
        },
        {
          "name": "stderr",
          "output_type": "stream",
          "text": [
            "Train : 100%|\u001b[30m███████████████\u001b[0m| 2188/2188 [12:04<00:00,  3.02it/s]\u001b[0m\n"
          ]
        },
        {
          "name": "stdout",
          "output_type": "stream",
          "text": [
            "Train  - loss = 0.373969, accuracy = 87.260\n"
          ]
        },
        {
          "name": "stderr",
          "output_type": "stream",
          "text": [
            "Val   : 100%|\u001b[30m█████████████████\u001b[0m| 313/313 [00:29<00:00, 10.62it/s]\u001b[0m\n"
          ]
        },
        {
          "name": "stdout",
          "output_type": "stream",
          "text": [
            "Val    - loss = 0.880968, accuracy = 73.360\n",
            "Time: 37.0m 41.943s\n",
            "\u001b[31m\n",
            "Epoch :  4/12 \u001b[39m    ==============================================\n"
          ]
        },
        {
          "name": "stderr",
          "output_type": "stream",
          "text": [
            "Train : 100%|\u001b[30m███████████████\u001b[0m| 2188/2188 [12:04<00:00,  3.02it/s]\u001b[0m\n"
          ]
        },
        {
          "name": "stdout",
          "output_type": "stream",
          "text": [
            "Epoch     4: reducing learning rate of group 0 to 2.0000e-05.\n",
            "Train  - loss = 0.243628, accuracy = 92.120\n"
          ]
        },
        {
          "name": "stderr",
          "output_type": "stream",
          "text": [
            "Val   : 100%|\u001b[30m█████████████████\u001b[0m| 313/313 [00:29<00:00, 10.56it/s]\u001b[0m\n"
          ]
        },
        {
          "name": "stdout",
          "output_type": "stream",
          "text": [
            "Val    - loss = 0.880486, accuracy = 74.040\n",
            "Time: 50.0m 16.392s\n",
            "\u001b[31m\n",
            "Epoch :  5/12 \u001b[39m    ==============================================\n"
          ]
        },
        {
          "name": "stderr",
          "output_type": "stream",
          "text": [
            "Train :   2%|\u001b[30m▎                \u001b[0m| 41/2188 [00:13<11:54,  3.00it/s]\u001b[0m"
          ]
        }
      ],
      "source": [
        "%cd /content/gdrive/MyDrive/Knowledge-Distillation\n",
        "from distiller.student_train import training_kd\n",
        "\n",
        "\n",
        "student = models.resnet18(pretrained=True, progress=True)\n",
        "student.fc = nn.Linear(in_features=student.fc.in_features,\n",
        "                       out_features=num_classes, bias=True)\n",
        "# student.load_state_dict(\n",
        "#     torch.load(\"weights/student.pth\"))\n",
        "\n",
        "\n",
        "#NOTE train teacher model\n",
        "epoch_warmup = 1\n",
        "epoch = 1\n",
        "path_save_weight = \"/content/gdrive/MyDrive/Classify_pytorch/Weights/student.pth\"\n",
        "student = training_kd(student, teacher, epoch_warmup, epoch, path_save_weight)"
      ]
    },
    {
      "cell_type": "code",
      "execution_count": null,
      "metadata": {
        "id": "PFbW07ISMTlT"
      },
      "outputs": [],
      "source": [
        "!git config --global user.email \"imnova1212@gmail.com\"\n",
        "!git config --global user.name \"watson21\"\n",
        "!git add student_train.py\n",
        "!git add teacher_train.py\n",
        "!git add data.py\n",
        "!git add model.py\n",
        "\n",
        "!git commit -m \"fix grad\"\n",
        "!git push"
      ]
    },
    {
      "cell_type": "code",
      "execution_count": null,
      "metadata": {
        "colab": {
          "base_uri": "https://localhost:8080/"
        },
        "id": "gR3Y435V6Agx",
        "outputId": "7ef45ce1-9967-461f-e76d-d070d8cfae08"
      },
      "outputs": [
        {
          "name": "stdout",
          "output_type": "stream",
          "text": [
            "ResNet : 44.629MB\n",
            "ResNet : 83.217MB\n",
            "ResNet : 97.695MB\n",
            "ResNet : 170.344MB\n",
            "ResNet : 230.196MB\n",
            "ResNet : 95.738MB\n",
            "ResNet : 339.487MB\n",
            "ResNet : 263.029MB\n",
            "ResNet : 484.561MB\n"
          ]
        }
      ],
      "source": [
        "import torchvision.models.resnet as resnet\n",
        "\n",
        "def get_size_model(model):\n",
        "    # model = resnet.resnet18()\n",
        "    param_size = 0\n",
        "    for param in model.parameters():\n",
        "        param_size += param.nelement() * param.element_size()\n",
        "    buffer_size = 0\n",
        "    for buffer in model.buffers():\n",
        "        buffer_size += buffer.nelement() * buffer.element_size()\n",
        "\n",
        "    size_all_mb = (param_size + buffer_size) / 1024**2\n",
        "    print('{} : {:.3f}MB'.format(model.__class__.__name__, size_all_mb))\n",
        "    return size_all_mb\n",
        "\n",
        "models = [resnet.resnet18(),\n",
        "          resnet.resnet34(),\n",
        "          resnet.resnet50(),\n",
        "          resnet.resnet101(),\n",
        "          resnet.resnet152(),\n",
        "          resnet.resnext50_32x4d(),\n",
        "          resnet.resnext101_32x8d(),\n",
        "          resnet.wide_resnet50_2(),\n",
        "          resnet.wide_resnet101_2()]\n",
        "\n",
        "for model in models:\n",
        "    get_size_model(model)\n",
        "del models"
      ]
    },
    {
      "cell_type": "code",
      "execution_count": null,
      "metadata": {
        "id": "gYw6w2FD9ZV5"
      },
      "outputs": [],
      "source": []
    }
  ],
  "metadata": {
    "accelerator": "GPU",
    "colab": {
      "collapsed_sections": [],
      "name": "Knowledge_Distillation.ipynb",
      "provenance": []
    },
    "interpreter": {
      "hash": "58c3107735e2e75f767a7a61455b82293e72542d5a0152a781eb99a11807503b"
    },
    "kernelspec": {
      "display_name": "Python 3.8.13 ('py38')",
      "language": "python",
      "name": "python3"
    },
    "language_info": {
      "codemirror_mode": {
        "name": "ipython",
        "version": 3
      },
      "file_extension": ".py",
      "mimetype": "text/x-python",
      "name": "python",
      "nbconvert_exporter": "python",
      "pygments_lexer": "ipython3",
      "version": "3.8.13"
    }
  },
  "nbformat": 4,
  "nbformat_minor": 0
}
