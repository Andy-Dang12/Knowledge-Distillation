{
  "cells": [
    {
      "cell_type": "code",
      "execution_count": 1,
      "metadata": {
        "colab": {
          "base_uri": "https://localhost:8080/"
        },
        "id": "cz3i7oBg8pKw",
        "outputId": "f03b31c0-5fd5-4d6a-e8bd-95bb235fb9ef"
      },
      "outputs": [
        {
          "name": "stdout",
          "output_type": "stream",
          "text": [
            "Mounted at /content/gdrive\n"
          ]
        }
      ],
      "source": [
        "# from google.colab import drive\n",
        "# drive.mount('/content/gdrive')"
      ]
    },
    {
      "cell_type": "code",
      "execution_count": 1,
      "metadata": {
        "colab": {
          "base_uri": "https://localhost:8080/"
        },
        "id": "4VOVI054suq2",
        "outputId": "efb88694-28ba-4243-a296-94f10561c880"
      },
      "outputs": [
        {
          "name": "stdout",
          "output_type": "stream",
          "text": [
            "Mon Apr  4 20:03:10 2022       \n",
            "+-----------------------------------------------------------------------------+\n",
            "| NVIDIA-SMI 510.47.03    Driver Version: 510.47.03    CUDA Version: 11.6     |\n",
            "|-------------------------------+----------------------+----------------------+\n",
            "| GPU  Name        Persistence-M| Bus-Id        Disp.A | Volatile Uncorr. ECC |\n",
            "| Fan  Temp  Perf  Pwr:Usage/Cap|         Memory-Usage | GPU-Util  Compute M. |\n",
            "|                               |                      |               MIG M. |\n",
            "|===============================+======================+======================|\n",
            "|   0  NVIDIA GeForce ...  On   | 00000000:01:00.0 Off |                  N/A |\n",
            "| N/A   43C    P3    11W /  N/A |    382MiB /  4096MiB |     32%      Default |\n",
            "|                               |                      |                  N/A |\n",
            "+-------------------------------+----------------------+----------------------+\n",
            "                                                                               \n",
            "+-----------------------------------------------------------------------------+\n",
            "| Processes:                                                                  |\n",
            "|  GPU   GI   CI        PID   Type   Process name                  GPU Memory |\n",
            "|        ID   ID                                                   Usage      |\n",
            "|=============================================================================|\n",
            "|    0   N/A  N/A      1306      G   /usr/lib/xorg/Xorg                 45MiB |\n",
            "|    0   N/A  N/A      1934      G   /usr/lib/xorg/Xorg                138MiB |\n",
            "|    0   N/A  N/A      2140      G   /usr/bin/gnome-shell               39MiB |\n",
            "|    0   N/A  N/A      5332      G   ...RendererForSitePerProcess       93MiB |\n",
            "|    0   N/A  N/A      5731      G   ...tures=ParallelDownloading       43MiB |\n",
            "+-----------------------------------------------------------------------------+\n"
          ]
        }
      ],
      "source": [
        "!nvidia-smi"
      ]
    },
    {
      "cell_type": "code",
      "execution_count": 2,
      "metadata": {
        "colab": {
          "base_uri": "https://localhost:8080/"
        },
        "id": "CrCji_SWtMLL",
        "outputId": "d97e02eb-798b-440a-ba36-6f800a431ca1"
      },
      "outputs": [
        {
          "name": "stdout",
          "output_type": "stream",
          "text": [
            "/home/agent/Documents/Project/Knowledge-Distillation\n",
            "Files already downloaded and verified\n",
            "CLASSIFIER TRAINING TIME  12 : 1 :  6\n"
          ]
        },
        {
          "name": "stderr",
          "output_type": "stream",
          "text": [
            "Downloading: \"https://download.pytorch.org/models/resnet101-5d3b4d8f.pth\" to /home/agent/.cache/torch/hub/checkpoints/resnet101-5d3b4d8f.pth\n",
            "100%|██████████| 170M/170M [00:18<00:00, 9.49MB/s] \n",
            "Downloading: \"https://download.pytorch.org/models/resnet18-5c106cde.pth\" to /home/agent/.cache/torch/hub/checkpoints/resnet18-5c106cde.pth\n",
            "100%|██████████| 44.7M/44.7M [00:04<00:00, 10.4MB/s]\n"
          ]
        }
      ],
      "source": [
        "%cd /home/agent/Documents/Project/Knowledge-Distillation\n",
        "import teacher_train, student_train\n",
        "from model import teacher, student\n",
        "# from data import loaders, dataset_sizes"
      ]
    },
    {
      "cell_type": "code",
      "execution_count": 3,
      "metadata": {
        "colab": {
          "base_uri": "https://localhost:8080/"
        },
        "id": "hN3lf_ecvKbf",
        "outputId": "323721d2-85ef-461b-c683-35e0db2accce"
      },
      "outputs": [
        {
          "name": "stdout",
          "output_type": "stream",
          "text": [
            "Training ResNet using cuda:0\n",
            "\u001b[31m\n",
            "Epoch :  1/ 1 \u001b[39m    ==============================================\n"
          ]
        },
        {
          "name": "stderr",
          "output_type": "stream",
          "text": [
            "Train :   1%|\u001b[30m▏              \u001b[0m| 220/17500 [00:28<37:03,  7.77it/s]\u001b[0m\n"
          ]
        }
      ],
      "source": [
        "teacher = teacher_train.training(1, 1, teacher, \n",
        "                                 \"/content/gdrive/MyDrive/Classify_pytorch/Weights/teacher.pth\")"
      ]
    },
    {
      "cell_type": "code",
      "execution_count": null,
      "metadata": {
        "colab": {
          "base_uri": "https://localhost:8080/"
        },
        "id": "g3FbQd9Vv829",
        "outputId": "e1e25e41-9bb0-424c-e63f-666d76ea232f"
      },
      "outputs": [
        {
          "name": "stdout",
          "output_type": "stream",
          "text": [
            "/content/gdrive/MyDrive/Knowledge-Distillation\n",
            "Files already downloaded and verified\n",
            "Training ResNet using cuda:0\n",
            "\u001b[31m\n",
            "Epoch :  1/ 8 \u001b[39m    ==============================================\n"
          ]
        },
        {
          "name": "stderr",
          "output_type": "stream",
          "text": [
            "\rTrain :   0%|\u001b[30m                          \u001b[0m| 0/2188 [00:00<?, ?it/s]\u001b[0m/usr/local/lib/python3.7/dist-packages/torch/nn/functional.py:2748: UserWarning: reduction: 'mean' divides the total loss by both the batch size and the support size.'batchmean' divides only by the batch size, and aligns with the KL div math definition.'mean' will be changed to behave the same as 'batchmean' in the next major release.\n",
            "  \"reduction: 'mean' divides the total loss by both the batch size and the support size.\"\n",
            "Train : 100%|\u001b[30m███████████████\u001b[0m| 2188/2188 [11:49<00:00,  3.08it/s]\u001b[0m\n"
          ]
        },
        {
          "name": "stdout",
          "output_type": "stream",
          "text": [
            "Train  - loss = 2.231892, accuracy = 39.280\n"
          ]
        },
        {
          "name": "stderr",
          "output_type": "stream",
          "text": [
            "Val   : 100%|\u001b[30m█████████████████\u001b[0m| 313/313 [00:30<00:00, 10.41it/s]\u001b[0m\n"
          ]
        },
        {
          "name": "stdout",
          "output_type": "stream",
          "text": [
            "Val    - loss = 1.628673, accuracy = 51.400\n",
            "Time: 12.0m 19.804s\n",
            "\u001b[31m\n",
            "Epoch :  2/ 8 \u001b[39m    ==============================================\n"
          ]
        },
        {
          "name": "stderr",
          "output_type": "stream",
          "text": [
            "Train : 100%|\u001b[30m███████████████\u001b[0m| 2188/2188 [11:53<00:00,  3.06it/s]\u001b[0m\n"
          ]
        },
        {
          "name": "stdout",
          "output_type": "stream",
          "text": [
            "Train  - loss = 1.627605, accuracy = 51.846\n"
          ]
        },
        {
          "name": "stderr",
          "output_type": "stream",
          "text": [
            "Val   : 100%|\u001b[30m█████████████████\u001b[0m| 313/313 [00:29<00:00, 10.61it/s]\u001b[0m\n"
          ]
        },
        {
          "name": "stdout",
          "output_type": "stream",
          "text": [
            "Val    - loss = 1.538975, accuracy = 53.680\n",
            "Time: 24.0m 43.448s\n",
            "\u001b[31m\n",
            "Epoch :  3/ 8 \u001b[39m    ==============================================\n"
          ]
        },
        {
          "name": "stderr",
          "output_type": "stream",
          "text": [
            "Train : 100%|\u001b[30m███████████████\u001b[0m| 2188/2188 [11:53<00:00,  3.06it/s]\u001b[0m\n"
          ]
        },
        {
          "name": "stdout",
          "output_type": "stream",
          "text": [
            "Train  - loss = 1.526293, accuracy = 54.649\n"
          ]
        },
        {
          "name": "stderr",
          "output_type": "stream",
          "text": [
            "Val   : 100%|\u001b[30m█████████████████\u001b[0m| 313/313 [00:29<00:00, 10.62it/s]\u001b[0m\n"
          ]
        },
        {
          "name": "stdout",
          "output_type": "stream",
          "text": [
            "Val    - loss = 1.501114, accuracy = 55.740\n",
            "Time: 37.0m 6.971s\n",
            "\u001b[31m\n",
            "Epoch :  4/ 8 \u001b[39m    ==============================================\n"
          ]
        },
        {
          "name": "stderr",
          "output_type": "stream",
          "text": [
            "Train : 100%|\u001b[30m███████████████\u001b[0m| 2188/2188 [11:53<00:00,  3.06it/s]\u001b[0m\n"
          ]
        },
        {
          "name": "stdout",
          "output_type": "stream",
          "text": [
            "Train  - loss = 1.470853, accuracy = 55.934\n"
          ]
        },
        {
          "name": "stderr",
          "output_type": "stream",
          "text": [
            "Val   : 100%|\u001b[30m█████████████████\u001b[0m| 313/313 [00:29<00:00, 10.63it/s]\u001b[0m\n"
          ]
        },
        {
          "name": "stdout",
          "output_type": "stream",
          "text": [
            "Val    - loss = 1.521482, accuracy = 55.840\n",
            "Time: 49.0m 30.557s\n",
            "\u001b[31m\n",
            "Epoch :  5/ 8 \u001b[39m    ==============================================\n"
          ]
        },
        {
          "name": "stderr",
          "output_type": "stream",
          "text": [
            "Train : 100%|\u001b[30m███████████████\u001b[0m| 2188/2188 [11:54<00:00,  3.06it/s]\u001b[0m\n"
          ]
        },
        {
          "name": "stdout",
          "output_type": "stream",
          "text": [
            "Train  - loss = 1.425564, accuracy = 56.957\n"
          ]
        },
        {
          "name": "stderr",
          "output_type": "stream",
          "text": [
            "Val   : 100%|\u001b[30m█████████████████\u001b[0m| 313/313 [00:29<00:00, 10.61it/s]\u001b[0m\n"
          ]
        },
        {
          "name": "stdout",
          "output_type": "stream",
          "text": [
            "Val    - loss = 1.539369, accuracy = 55.020\n",
            "Time: 61.0m 55.041s\n",
            "\u001b[31m\n",
            "Epoch :  6/ 8 \u001b[39m    ==============================================\n"
          ]
        },
        {
          "name": "stderr",
          "output_type": "stream",
          "text": [
            "Train : 100%|\u001b[30m███████████████\u001b[0m| 2188/2188 [11:54<00:00,  3.06it/s]\u001b[0m\n"
          ]
        },
        {
          "name": "stdout",
          "output_type": "stream",
          "text": [
            "Train  - loss = 1.403202, accuracy = 57.663\n"
          ]
        },
        {
          "name": "stderr",
          "output_type": "stream",
          "text": [
            "Val   : 100%|\u001b[30m█████████████████\u001b[0m| 313/313 [00:29<00:00, 10.46it/s]\u001b[0m\n"
          ]
        },
        {
          "name": "stdout",
          "output_type": "stream",
          "text": [
            "Val    - loss = 1.563269, accuracy = 55.100\n",
            "Time: 74.0m 19.806s\n",
            "\u001b[31m\n",
            "Epoch :  7/ 8 \u001b[39m    ==============================================\n"
          ]
        },
        {
          "name": "stderr",
          "output_type": "stream",
          "text": [
            "Train : 100%|\u001b[30m███████████████\u001b[0m| 2188/2188 [11:53<00:00,  3.06it/s]\u001b[0m\n"
          ]
        },
        {
          "name": "stdout",
          "output_type": "stream",
          "text": [
            "Train  - loss = 1.385881, accuracy = 58.269\n"
          ]
        },
        {
          "name": "stderr",
          "output_type": "stream",
          "text": [
            "Val   : 100%|\u001b[30m█████████████████\u001b[0m| 313/313 [00:29<00:00, 10.59it/s]\u001b[0m\n"
          ]
        },
        {
          "name": "stdout",
          "output_type": "stream",
          "text": [
            "Val    - loss = 1.526115, accuracy = 55.560\n",
            "Time: 86.0m 43.375s\n",
            "\u001b[31m\n",
            "Epoch :  8/ 8 \u001b[39m    ==============================================\n"
          ]
        },
        {
          "name": "stderr",
          "output_type": "stream",
          "text": [
            "Train : 100%|\u001b[30m███████████████\u001b[0m| 2188/2188 [11:54<00:00,  3.06it/s]\u001b[0m\n"
          ]
        },
        {
          "name": "stdout",
          "output_type": "stream",
          "text": [
            "Train  - loss = 1.364842, accuracy = 58.714\n"
          ]
        },
        {
          "name": "stderr",
          "output_type": "stream",
          "text": [
            "Val   : 100%|\u001b[30m█████████████████\u001b[0m| 313/313 [00:29<00:00, 10.63it/s]\u001b[0m\n"
          ]
        },
        {
          "name": "stdout",
          "output_type": "stream",
          "text": [
            "Val    - loss = 1.548041, accuracy = 55.660\n",
            "Time: 99.0m 7.167s\n",
            "CLASSIFIER TRAINING TIME 99.0 : 7.182\n",
            "┌─ \u001b[31mUnfreeze all layers \u001b[39m────────────────────────────────────────┐\n",
            "│                                                              │\n",
            "│                            ResNet                            │\n",
            "│                                                              │\n",
            "└───────────────────────────────────────────────────────(v1.0)─┘\n",
            "\u001b[31m\n",
            "Epoch :  1/12 \u001b[39m    ==============================================\n"
          ]
        },
        {
          "name": "stderr",
          "output_type": "stream",
          "text": [
            "Train : 100%|\u001b[30m███████████████\u001b[0m| 2188/2188 [12:04<00:00,  3.02it/s]\u001b[0m\n"
          ]
        },
        {
          "name": "stdout",
          "output_type": "stream",
          "text": [
            "Train  - loss = 1.085648, accuracy = 65.951\n"
          ]
        },
        {
          "name": "stderr",
          "output_type": "stream",
          "text": [
            "Val   : 100%|\u001b[30m█████████████████\u001b[0m| 313/313 [00:29<00:00, 10.57it/s]\u001b[0m\n"
          ]
        },
        {
          "name": "stdout",
          "output_type": "stream",
          "text": [
            "Val    - loss = 0.819578, accuracy = 74.020\n",
            "Time: 12.0m 34.200s\n",
            "\u001b[31m\n",
            "Epoch :  2/12 \u001b[39m    ==============================================\n"
          ]
        },
        {
          "name": "stderr",
          "output_type": "stream",
          "text": [
            "Train : 100%|\u001b[30m███████████████\u001b[0m| 2188/2188 [12:04<00:00,  3.02it/s]\u001b[0m\n"
          ]
        },
        {
          "name": "stdout",
          "output_type": "stream",
          "text": [
            "Train  - loss = 0.614742, accuracy = 79.537\n"
          ]
        },
        {
          "name": "stderr",
          "output_type": "stream",
          "text": [
            "Val   : 100%|\u001b[30m█████████████████\u001b[0m| 313/313 [00:29<00:00, 10.56it/s]\u001b[0m\n"
          ]
        },
        {
          "name": "stdout",
          "output_type": "stream",
          "text": [
            "Val    - loss = 0.817911, accuracy = 73.980\n",
            "Time: 25.0m 8.178s\n",
            "\u001b[31m\n",
            "Epoch :  3/12 \u001b[39m    ==============================================\n"
          ]
        },
        {
          "name": "stderr",
          "output_type": "stream",
          "text": [
            "Train : 100%|\u001b[30m███████████████\u001b[0m| 2188/2188 [12:04<00:00,  3.02it/s]\u001b[0m\n"
          ]
        },
        {
          "name": "stdout",
          "output_type": "stream",
          "text": [
            "Train  - loss = 0.373969, accuracy = 87.260\n"
          ]
        },
        {
          "name": "stderr",
          "output_type": "stream",
          "text": [
            "Val   : 100%|\u001b[30m█████████████████\u001b[0m| 313/313 [00:29<00:00, 10.62it/s]\u001b[0m\n"
          ]
        },
        {
          "name": "stdout",
          "output_type": "stream",
          "text": [
            "Val    - loss = 0.880968, accuracy = 73.360\n",
            "Time: 37.0m 41.943s\n",
            "\u001b[31m\n",
            "Epoch :  4/12 \u001b[39m    ==============================================\n"
          ]
        },
        {
          "name": "stderr",
          "output_type": "stream",
          "text": [
            "Train : 100%|\u001b[30m███████████████\u001b[0m| 2188/2188 [12:04<00:00,  3.02it/s]\u001b[0m\n"
          ]
        },
        {
          "name": "stdout",
          "output_type": "stream",
          "text": [
            "Epoch     4: reducing learning rate of group 0 to 2.0000e-05.\n",
            "Train  - loss = 0.243628, accuracy = 92.120\n"
          ]
        },
        {
          "name": "stderr",
          "output_type": "stream",
          "text": [
            "Val   : 100%|\u001b[30m█████████████████\u001b[0m| 313/313 [00:29<00:00, 10.56it/s]\u001b[0m\n"
          ]
        },
        {
          "name": "stdout",
          "output_type": "stream",
          "text": [
            "Val    - loss = 0.880486, accuracy = 74.040\n",
            "Time: 50.0m 16.392s\n",
            "\u001b[31m\n",
            "Epoch :  5/12 \u001b[39m    ==============================================\n"
          ]
        },
        {
          "name": "stderr",
          "output_type": "stream",
          "text": [
            "Train :   2%|\u001b[30m▎                \u001b[0m| 41/2188 [00:13<11:54,  3.00it/s]\u001b[0m"
          ]
        }
      ],
      "source": [
        "%cd /content/gdrive/MyDrive/Knowledge-Distillation\n",
        "import teacher_train, student_train\n",
        "from model import teacher, student\n",
        "\n",
        "student = student_train.training_kd(student, teacher, 8, 12, \n",
        "                                 \"/content/gdrive/MyDrive/Classify_pytorch/Weights/student.pth\")"
      ]
    },
    {
      "cell_type": "code",
      "execution_count": null,
      "metadata": {
        "id": "PFbW07ISMTlT"
      },
      "outputs": [],
      "source": [
        "!git config --global user.email \"imnova1212@gmail.com\"\n",
        "!git config --global user.name \"watson21\"\n",
        "!git add student_train.py\n",
        "!git add teacher_train.py\n",
        "!git add data.py\n",
        "!git add model.py\n",
        "\n",
        "!git commit -m \"fix grad\"\n",
        "!git push"
      ]
    },
    {
      "cell_type": "code",
      "execution_count": null,
      "metadata": {
        "colab": {
          "base_uri": "https://localhost:8080/"
        },
        "id": "gR3Y435V6Agx",
        "outputId": "7ef45ce1-9967-461f-e76d-d070d8cfae08"
      },
      "outputs": [
        {
          "name": "stdout",
          "output_type": "stream",
          "text": [
            "ResNet : 44.629MB\n",
            "ResNet : 83.217MB\n",
            "ResNet : 97.695MB\n",
            "ResNet : 170.344MB\n",
            "ResNet : 230.196MB\n",
            "ResNet : 95.738MB\n",
            "ResNet : 339.487MB\n",
            "ResNet : 263.029MB\n",
            "ResNet : 484.561MB\n"
          ]
        }
      ],
      "source": [
        "import torchvision.models.resnet as resnet\n",
        "\n",
        "def get_size_model(model):\n",
        "    # model = resnet.resnet18()\n",
        "    param_size = 0\n",
        "    for param in model.parameters():\n",
        "        param_size += param.nelement() * param.element_size()\n",
        "    buffer_size = 0\n",
        "    for buffer in model.buffers():\n",
        "        buffer_size += buffer.nelement() * buffer.element_size()\n",
        "\n",
        "    size_all_mb = (param_size + buffer_size) / 1024**2\n",
        "    print('{} : {:.3f}MB'.format(model.__class__.__name__, size_all_mb))\n",
        "    return size_all_mb\n",
        "\n",
        "models = [resnet.resnet18(),\n",
        "          resnet.resnet34(),\n",
        "          resnet.resnet50(),\n",
        "          resnet.resnet101(),\n",
        "          resnet.resnet152(),\n",
        "          resnet.resnext50_32x4d(),\n",
        "          resnet.resnext101_32x8d(),\n",
        "          resnet.wide_resnet50_2(),\n",
        "          resnet.wide_resnet101_2()]\n",
        "\n",
        "for model in models:\n",
        "    get_size_model(model)\n",
        "del models"
      ]
    },
    {
      "cell_type": "code",
      "execution_count": null,
      "metadata": {
        "id": "gYw6w2FD9ZV5"
      },
      "outputs": [],
      "source": []
    }
  ],
  "metadata": {
    "accelerator": "GPU",
    "colab": {
      "collapsed_sections": [],
      "name": "Knowledge_Distillation.ipynb",
      "provenance": []
    },
    "kernelspec": {
      "display_name": "Python 3",
      "name": "python3"
    },
    "language_info": {
      "codemirror_mode": {
        "name": "ipython",
        "version": 3
      },
      "file_extension": ".py",
      "mimetype": "text/x-python",
      "name": "python",
      "nbconvert_exporter": "python",
      "pygments_lexer": "ipython3",
      "version": "3.8.12"
    }
  },
  "nbformat": 4,
  "nbformat_minor": 0
}
